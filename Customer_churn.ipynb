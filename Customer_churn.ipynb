{
  "nbformat": 4,
  "nbformat_minor": 0,
  "metadata": {
    "colab": {
      "name": "Customer_churn.ipynb",
      "version": "0.3.2",
      "provenance": [],
      "collapsed_sections": [],
      "include_colab_link": true
    },
    "kernelspec": {
      "name": "python3",
      "display_name": "Python 3"
    }
  },
  "cells": [
    {
      "cell_type": "markdown",
      "metadata": {
        "id": "view-in-github",
        "colab_type": "text"
      },
      "source": [
        "<a href=\"https://colab.research.google.com/github/claree007/Customer-Churn/blob/master/Customer_churn.ipynb\" target=\"_parent\"><img src=\"https://colab.research.google.com/assets/colab-badge.svg\" alt=\"Open In Colab\"/></a>"
      ]
    },
    {
      "cell_type": "markdown",
      "metadata": {
        "id": "Lj1C_Db1-Lj8",
        "colab_type": "text"
      },
      "source": [
        "<h1>Customer Churn</h1>\n",
        "\n"
      ]
    },
    {
      "cell_type": "code",
      "metadata": {
        "id": "9gCSsydfBhs6",
        "colab_type": "code",
        "colab": {}
      },
      "source": [
        "import time\n",
        "import warnings\n",
        "import numpy as np\n",
        "import pandas as pd\n",
        "import seaborn as sns\n",
        "import matplotlib.pyplot as plt\n",
        "from sklearn.svm import SVC\n",
        "from sklearn.svm import LinearSVC\n",
        "from sklearn.pipeline import Pipeline\n",
        "from sklearn.impute import SimpleImputer\n",
        "from pandas.plotting import scatter_matrix\n",
        "from sklearn.metrics import confusion_matrix\n",
        "from sklearn.compose import ColumnTransformer\n",
        "from sklearn.linear_model import SGDClassifier\n",
        "from sklearn.preprocessing import OneHotEncoder\n",
        "from sklearn.preprocessing import StandardScaler\n",
        "from sklearn.preprocessing import OrdinalEncoder\n",
        "from sklearn.preprocessing import LabelBinarizer\n",
        "from sklearn.model_selection import GridSearchCV\n",
        "from sklearn.neighbors import KNeighborsClassifier\n",
        "from sklearn.model_selection import cross_val_predict\n",
        "from sklearn.linear_model import LogisticRegression\n",
        "from sklearn.ensemble import RandomForestClassifier\n",
        "from sklearn.base import BaseEstimator, TransformerMixin\n",
        "from sklearn.metrics import precision_score, recall_score\n",
        "from sklearn.model_selection import StratifiedShuffleSplit\n",
        "from sklearn.metrics import f1_score, precision_recall_curve, roc_curve\n",
        "\n",
        "%matplotlib inline"
      ],
      "execution_count": 0,
      "outputs": []
    },
    {
      "cell_type": "markdown",
      "metadata": {
        "id": "CjyrtTCP-ahN",
        "colab_type": "text"
      },
      "source": [
        "<h2>Importing the data</h2>"
      ]
    },
    {
      "cell_type": "code",
      "metadata": {
        "id": "VHUFa2VQ9uqy",
        "colab_type": "code",
        "outputId": "7dbf22e9-78a1-4447-faa6-267bb117e4bb",
        "colab": {
          "base_uri": "https://localhost:8080/",
          "height": 538
        }
      },
      "source": [
        "# load the data\n",
        "path_to_file = \"Churn.csv\"\n",
        "customers = pd.read_csv(path_to_file)\n",
        "\n",
        "customers.head(10)"
      ],
      "execution_count": 0,
      "outputs": [
        {
          "output_type": "execute_result",
          "data": {
            "text/html": [
              "<div>\n",
              "<style scoped>\n",
              "    .dataframe tbody tr th:only-of-type {\n",
              "        vertical-align: middle;\n",
              "    }\n",
              "\n",
              "    .dataframe tbody tr th {\n",
              "        vertical-align: top;\n",
              "    }\n",
              "\n",
              "    .dataframe thead th {\n",
              "        text-align: right;\n",
              "    }\n",
              "</style>\n",
              "<table border=\"1\" class=\"dataframe\">\n",
              "  <thead>\n",
              "    <tr style=\"text-align: right;\">\n",
              "      <th></th>\n",
              "      <th>customerID</th>\n",
              "      <th>gender</th>\n",
              "      <th>SeniorCitizen</th>\n",
              "      <th>Partner</th>\n",
              "      <th>Dependents</th>\n",
              "      <th>tenure</th>\n",
              "      <th>PhoneService</th>\n",
              "      <th>MultipleLines</th>\n",
              "      <th>InternetService</th>\n",
              "      <th>OnlineSecurity</th>\n",
              "      <th>OnlineBackup</th>\n",
              "      <th>DeviceProtection</th>\n",
              "      <th>TechSupport</th>\n",
              "      <th>StreamingTV</th>\n",
              "      <th>StreamingMovies</th>\n",
              "      <th>Contract</th>\n",
              "      <th>PaperlessBilling</th>\n",
              "      <th>PaymentMethod</th>\n",
              "      <th>MonthlyCharges</th>\n",
              "      <th>TotalCharges</th>\n",
              "      <th>Churn</th>\n",
              "    </tr>\n",
              "  </thead>\n",
              "  <tbody>\n",
              "    <tr>\n",
              "      <th>0</th>\n",
              "      <td>7590-VHVEG</td>\n",
              "      <td>Female</td>\n",
              "      <td>0</td>\n",
              "      <td>Yes</td>\n",
              "      <td>No</td>\n",
              "      <td>1</td>\n",
              "      <td>No</td>\n",
              "      <td>No phone service</td>\n",
              "      <td>DSL</td>\n",
              "      <td>No</td>\n",
              "      <td>Yes</td>\n",
              "      <td>No</td>\n",
              "      <td>No</td>\n",
              "      <td>No</td>\n",
              "      <td>No</td>\n",
              "      <td>Month-to-month</td>\n",
              "      <td>Yes</td>\n",
              "      <td>Electronic check</td>\n",
              "      <td>29.85</td>\n",
              "      <td>29.85</td>\n",
              "      <td>No</td>\n",
              "    </tr>\n",
              "    <tr>\n",
              "      <th>1</th>\n",
              "      <td>5575-GNVDE</td>\n",
              "      <td>Male</td>\n",
              "      <td>0</td>\n",
              "      <td>No</td>\n",
              "      <td>No</td>\n",
              "      <td>34</td>\n",
              "      <td>Yes</td>\n",
              "      <td>No</td>\n",
              "      <td>DSL</td>\n",
              "      <td>Yes</td>\n",
              "      <td>No</td>\n",
              "      <td>Yes</td>\n",
              "      <td>No</td>\n",
              "      <td>No</td>\n",
              "      <td>No</td>\n",
              "      <td>One year</td>\n",
              "      <td>No</td>\n",
              "      <td>Mailed check</td>\n",
              "      <td>56.95</td>\n",
              "      <td>1889.5</td>\n",
              "      <td>No</td>\n",
              "    </tr>\n",
              "    <tr>\n",
              "      <th>2</th>\n",
              "      <td>3668-QPYBK</td>\n",
              "      <td>Male</td>\n",
              "      <td>0</td>\n",
              "      <td>No</td>\n",
              "      <td>No</td>\n",
              "      <td>2</td>\n",
              "      <td>Yes</td>\n",
              "      <td>No</td>\n",
              "      <td>DSL</td>\n",
              "      <td>Yes</td>\n",
              "      <td>Yes</td>\n",
              "      <td>No</td>\n",
              "      <td>No</td>\n",
              "      <td>No</td>\n",
              "      <td>No</td>\n",
              "      <td>Month-to-month</td>\n",
              "      <td>Yes</td>\n",
              "      <td>Mailed check</td>\n",
              "      <td>53.85</td>\n",
              "      <td>108.15</td>\n",
              "      <td>Yes</td>\n",
              "    </tr>\n",
              "    <tr>\n",
              "      <th>3</th>\n",
              "      <td>7795-CFOCW</td>\n",
              "      <td>Male</td>\n",
              "      <td>0</td>\n",
              "      <td>No</td>\n",
              "      <td>No</td>\n",
              "      <td>45</td>\n",
              "      <td>No</td>\n",
              "      <td>No phone service</td>\n",
              "      <td>DSL</td>\n",
              "      <td>Yes</td>\n",
              "      <td>No</td>\n",
              "      <td>Yes</td>\n",
              "      <td>Yes</td>\n",
              "      <td>No</td>\n",
              "      <td>No</td>\n",
              "      <td>One year</td>\n",
              "      <td>No</td>\n",
              "      <td>Bank transfer (automatic)</td>\n",
              "      <td>42.30</td>\n",
              "      <td>1840.75</td>\n",
              "      <td>No</td>\n",
              "    </tr>\n",
              "    <tr>\n",
              "      <th>4</th>\n",
              "      <td>9237-HQITU</td>\n",
              "      <td>Female</td>\n",
              "      <td>0</td>\n",
              "      <td>No</td>\n",
              "      <td>No</td>\n",
              "      <td>2</td>\n",
              "      <td>Yes</td>\n",
              "      <td>No</td>\n",
              "      <td>Fiber optic</td>\n",
              "      <td>No</td>\n",
              "      <td>No</td>\n",
              "      <td>No</td>\n",
              "      <td>No</td>\n",
              "      <td>No</td>\n",
              "      <td>No</td>\n",
              "      <td>Month-to-month</td>\n",
              "      <td>Yes</td>\n",
              "      <td>Electronic check</td>\n",
              "      <td>70.70</td>\n",
              "      <td>151.65</td>\n",
              "      <td>Yes</td>\n",
              "    </tr>\n",
              "    <tr>\n",
              "      <th>5</th>\n",
              "      <td>9305-CDSKC</td>\n",
              "      <td>Female</td>\n",
              "      <td>0</td>\n",
              "      <td>No</td>\n",
              "      <td>No</td>\n",
              "      <td>8</td>\n",
              "      <td>Yes</td>\n",
              "      <td>Yes</td>\n",
              "      <td>Fiber optic</td>\n",
              "      <td>No</td>\n",
              "      <td>No</td>\n",
              "      <td>Yes</td>\n",
              "      <td>No</td>\n",
              "      <td>Yes</td>\n",
              "      <td>Yes</td>\n",
              "      <td>Month-to-month</td>\n",
              "      <td>Yes</td>\n",
              "      <td>Electronic check</td>\n",
              "      <td>99.65</td>\n",
              "      <td>820.5</td>\n",
              "      <td>Yes</td>\n",
              "    </tr>\n",
              "    <tr>\n",
              "      <th>6</th>\n",
              "      <td>1452-KIOVK</td>\n",
              "      <td>Male</td>\n",
              "      <td>0</td>\n",
              "      <td>No</td>\n",
              "      <td>Yes</td>\n",
              "      <td>22</td>\n",
              "      <td>Yes</td>\n",
              "      <td>Yes</td>\n",
              "      <td>Fiber optic</td>\n",
              "      <td>No</td>\n",
              "      <td>Yes</td>\n",
              "      <td>No</td>\n",
              "      <td>No</td>\n",
              "      <td>Yes</td>\n",
              "      <td>No</td>\n",
              "      <td>Month-to-month</td>\n",
              "      <td>Yes</td>\n",
              "      <td>Credit card (automatic)</td>\n",
              "      <td>89.10</td>\n",
              "      <td>1949.4</td>\n",
              "      <td>No</td>\n",
              "    </tr>\n",
              "    <tr>\n",
              "      <th>7</th>\n",
              "      <td>6713-OKOMC</td>\n",
              "      <td>Female</td>\n",
              "      <td>0</td>\n",
              "      <td>No</td>\n",
              "      <td>No</td>\n",
              "      <td>10</td>\n",
              "      <td>No</td>\n",
              "      <td>No phone service</td>\n",
              "      <td>DSL</td>\n",
              "      <td>Yes</td>\n",
              "      <td>No</td>\n",
              "      <td>No</td>\n",
              "      <td>No</td>\n",
              "      <td>No</td>\n",
              "      <td>No</td>\n",
              "      <td>Month-to-month</td>\n",
              "      <td>No</td>\n",
              "      <td>Mailed check</td>\n",
              "      <td>29.75</td>\n",
              "      <td>301.9</td>\n",
              "      <td>No</td>\n",
              "    </tr>\n",
              "    <tr>\n",
              "      <th>8</th>\n",
              "      <td>7892-POOKP</td>\n",
              "      <td>Female</td>\n",
              "      <td>0</td>\n",
              "      <td>Yes</td>\n",
              "      <td>No</td>\n",
              "      <td>28</td>\n",
              "      <td>Yes</td>\n",
              "      <td>Yes</td>\n",
              "      <td>Fiber optic</td>\n",
              "      <td>No</td>\n",
              "      <td>No</td>\n",
              "      <td>Yes</td>\n",
              "      <td>Yes</td>\n",
              "      <td>Yes</td>\n",
              "      <td>Yes</td>\n",
              "      <td>Month-to-month</td>\n",
              "      <td>Yes</td>\n",
              "      <td>Electronic check</td>\n",
              "      <td>104.80</td>\n",
              "      <td>3046.05</td>\n",
              "      <td>Yes</td>\n",
              "    </tr>\n",
              "    <tr>\n",
              "      <th>9</th>\n",
              "      <td>6388-TABGU</td>\n",
              "      <td>Male</td>\n",
              "      <td>0</td>\n",
              "      <td>No</td>\n",
              "      <td>Yes</td>\n",
              "      <td>62</td>\n",
              "      <td>Yes</td>\n",
              "      <td>No</td>\n",
              "      <td>DSL</td>\n",
              "      <td>Yes</td>\n",
              "      <td>Yes</td>\n",
              "      <td>No</td>\n",
              "      <td>No</td>\n",
              "      <td>No</td>\n",
              "      <td>No</td>\n",
              "      <td>One year</td>\n",
              "      <td>No</td>\n",
              "      <td>Bank transfer (automatic)</td>\n",
              "      <td>56.15</td>\n",
              "      <td>3487.95</td>\n",
              "      <td>No</td>\n",
              "    </tr>\n",
              "  </tbody>\n",
              "</table>\n",
              "</div>"
            ],
            "text/plain": [
              "   customerID  gender  SeniorCitizen  ... MonthlyCharges TotalCharges  Churn\n",
              "0  7590-VHVEG  Female              0  ...          29.85        29.85     No\n",
              "1  5575-GNVDE    Male              0  ...          56.95       1889.5     No\n",
              "2  3668-QPYBK    Male              0  ...          53.85       108.15    Yes\n",
              "3  7795-CFOCW    Male              0  ...          42.30      1840.75     No\n",
              "4  9237-HQITU  Female              0  ...          70.70       151.65    Yes\n",
              "5  9305-CDSKC  Female              0  ...          99.65        820.5    Yes\n",
              "6  1452-KIOVK    Male              0  ...          89.10       1949.4     No\n",
              "7  6713-OKOMC  Female              0  ...          29.75        301.9     No\n",
              "8  7892-POOKP  Female              0  ...         104.80      3046.05    Yes\n",
              "9  6388-TABGU    Male              0  ...          56.15      3487.95     No\n",
              "\n",
              "[10 rows x 21 columns]"
            ]
          },
          "metadata": {
            "tags": []
          },
          "execution_count": 53
        }
      ]
    },
    {
      "cell_type": "markdown",
      "metadata": {
        "id": "_PJ9PZdEER7T",
        "colab_type": "text"
      },
      "source": [
        "<h2>Understand the data</h2>\n",
        "\n",
        "1. First we check the data type of our columns and any missing/null fields."
      ]
    },
    {
      "cell_type": "code",
      "metadata": {
        "id": "LCJizLsZHSVt",
        "colab_type": "code",
        "outputId": "0a80330e-d5cf-40dd-94e7-eec83a7e613a",
        "colab": {
          "base_uri": "https://localhost:8080/",
          "height": 467
        }
      },
      "source": [
        "print(customers.info())"
      ],
      "execution_count": 0,
      "outputs": [
        {
          "output_type": "stream",
          "text": [
            "<class 'pandas.core.frame.DataFrame'>\n",
            "RangeIndex: 7043 entries, 0 to 7042\n",
            "Data columns (total 21 columns):\n",
            "customerID          7043 non-null object\n",
            "gender              7043 non-null object\n",
            "SeniorCitizen       7043 non-null int64\n",
            "Partner             7043 non-null object\n",
            "Dependents          7043 non-null object\n",
            "tenure              7043 non-null int64\n",
            "PhoneService        7043 non-null object\n",
            "MultipleLines       7043 non-null object\n",
            "InternetService     7043 non-null object\n",
            "OnlineSecurity      7043 non-null object\n",
            "OnlineBackup        7043 non-null object\n",
            "DeviceProtection    7043 non-null object\n",
            "TechSupport         7043 non-null object\n",
            "StreamingTV         7043 non-null object\n",
            "StreamingMovies     7043 non-null object\n",
            "Contract            7043 non-null object\n",
            "PaperlessBilling    7043 non-null object\n",
            "PaymentMethod       7043 non-null object\n",
            "MonthlyCharges      7043 non-null float64\n",
            "TotalCharges        7043 non-null object\n",
            "Churn               7043 non-null object\n",
            "dtypes: float64(1), int64(2), object(18)\n",
            "memory usage: 1.1+ MB\n",
            "None\n"
          ],
          "name": "stdout"
        }
      ]
    },
    {
      "cell_type": "markdown",
      "metadata": {
        "id": "E-qxGZtBeVSq",
        "colab_type": "text"
      },
      "source": [
        "Thie TotalCharges field should have been a numerical attribute but here it is an object.\n",
        "\n",
        "\n",
        "2. In real life, people tend to leave a service if they are charged a high amount of money without them knowing(happens mostly with postpaid subcriptions). So I will check if people who were charged the highest left the service."
      ]
    },
    {
      "cell_type": "code",
      "metadata": {
        "id": "TQZuVBCYfAhU",
        "colab_type": "code",
        "outputId": "ffa78cf7-6df1-4025-8df7-0180261ede1c",
        "colab": {
          "base_uri": "https://localhost:8080/",
          "height": 50
        }
      },
      "source": [
        "# we will work on a copy of the data rather than overwrite the original\n",
        "changed_customers = customers.copy()\n",
        "\n",
        "# convert TotalCharges to numerical attribute and fill missing values with mean\n",
        "changed_customers[\"TotalCharges\"] = changed_customers[\"TotalCharges\"].apply(pd.to_numeric, errors='coerce')\n",
        "changed_customers[\"TotalCharges\"].fillna(changed_customers[\"TotalCharges\"].mean(), inplace=True)\n",
        "\n",
        "# convert Churn to numerical attribute\n",
        "#changed_customers[\"Churn\"] = changed_customers[\"Churn\"].astype('int')\n",
        "changed_customers[\"Churn\"] = pd.get_dummies(changed_customers[\"Churn\"])\n",
        "changed_customers[\"Churn\"] = (changed_customers[\"Churn\"].astype('int64') - 1).abs()\n",
        "\n",
        "# ratio of customers who paid less and left\n",
        "paid_less_left = changed_customers.loc[(changed_customers['Churn'] >= 1) & (changed_customers['TotalCharges'] <= 500)]\n",
        "paid_less = changed_customers.loc[changed_customers['TotalCharges'] <= 500]\n",
        "print(\"Ratio of customers who paid less and left: {0:1.3f}\".format(len(paid_less_left)/ len(paid_less)))\n",
        "\n",
        "# ratio of customers who paid high and left\n",
        "paid_high_left = changed_customers.loc[(changed_customers['Churn'] >= 1) & (changed_customers['TotalCharges'] >= 7000)]\n",
        "paid_high = changed_customers.loc[changed_customers['TotalCharges'] >= 7000]\n",
        "print(\"Ratio of customers who paid high and left: {0:1.3f}\".format(len(paid_high_left)/ len(paid_high)))"
      ],
      "execution_count": 0,
      "outputs": [
        {
          "output_type": "stream",
          "text": [
            "Ratio of customers who paid less and left: 0.414\n",
            "Ratio of customers who paid high and left: 0.101\n"
          ],
          "name": "stdout"
        }
      ]
    },
    {
      "cell_type": "code",
      "metadata": {
        "id": "vaCx7_DTsN-d",
        "colab_type": "code",
        "outputId": "053d2262-9dd9-44b1-84b9-be0dedcb3348",
        "colab": {
          "base_uri": "https://localhost:8080/",
          "height": 33
        }
      },
      "source": [
        "changed_customers['tenure'].mean()"
      ],
      "execution_count": 0,
      "outputs": [
        {
          "output_type": "execute_result",
          "data": {
            "text/plain": [
              "32.37114865824223"
            ]
          },
          "metadata": {
            "tags": []
          },
          "execution_count": 56
        }
      ]
    },
    {
      "cell_type": "code",
      "metadata": {
        "id": "pF4yzaeRoJYo",
        "colab_type": "code",
        "outputId": "c3a5f88c-ae42-429c-f41b-5e4db6e3ae39",
        "colab": {
          "base_uri": "https://localhost:8080/",
          "height": 451
        }
      },
      "source": [
        "changed_customers.info()"
      ],
      "execution_count": 0,
      "outputs": [
        {
          "output_type": "stream",
          "text": [
            "<class 'pandas.core.frame.DataFrame'>\n",
            "RangeIndex: 7043 entries, 0 to 7042\n",
            "Data columns (total 21 columns):\n",
            "customerID          7043 non-null object\n",
            "gender              7043 non-null object\n",
            "SeniorCitizen       7043 non-null int64\n",
            "Partner             7043 non-null object\n",
            "Dependents          7043 non-null object\n",
            "tenure              7043 non-null int64\n",
            "PhoneService        7043 non-null object\n",
            "MultipleLines       7043 non-null object\n",
            "InternetService     7043 non-null object\n",
            "OnlineSecurity      7043 non-null object\n",
            "OnlineBackup        7043 non-null object\n",
            "DeviceProtection    7043 non-null object\n",
            "TechSupport         7043 non-null object\n",
            "StreamingTV         7043 non-null object\n",
            "StreamingMovies     7043 non-null object\n",
            "Contract            7043 non-null object\n",
            "PaperlessBilling    7043 non-null object\n",
            "PaymentMethod       7043 non-null object\n",
            "MonthlyCharges      7043 non-null float64\n",
            "TotalCharges        7043 non-null float64\n",
            "Churn               7043 non-null int64\n",
            "dtypes: float64(2), int64(3), object(16)\n",
            "memory usage: 1.1+ MB\n"
          ],
          "name": "stdout"
        }
      ]
    },
    {
      "cell_type": "markdown",
      "metadata": {
        "id": "A2XpTTd6ILTf",
        "colab_type": "text"
      },
      "source": [
        "<h2>Data Manipulation</h2>\n"
      ]
    },
    {
      "cell_type": "markdown",
      "metadata": {
        "id": "A9t5dmfI5zdZ",
        "colab_type": "text"
      },
      "source": [
        "Splitting the data into train and test sets"
      ]
    },
    {
      "cell_type": "code",
      "metadata": {
        "id": "yMOSyvE080m6",
        "colab_type": "code",
        "outputId": "ed3bc329-27ac-4f58-f130-b3d5c0e157a8",
        "colab": {
          "base_uri": "https://localhost:8080/",
          "height": 50
        }
      },
      "source": [
        "customers[\"TotalChargesCategory\"] = pd.cut(changed_customers[\"TotalCharges\"],\n",
        "                       bins=[0., 500., 1000., 3000., 5000., np.inf],\n",
        "                       labels=[1, 2, 3, 4, 5])\n",
        "\n",
        "split = StratifiedShuffleSplit(n_splits=1, test_size=0.4, random_state=42)\n",
        "for train_index, test_index in split.split(customers, customers[\"TotalChargesCategory\"]):\n",
        "    customers_train_set = customers.loc[train_index]\n",
        "    customers_test_set = customers.loc[test_index]\n",
        "    \n",
        "for set_ in (customers_train_set, customers_test_set):\n",
        "    set_.drop(\"TotalChargesCategory\", axis=1, inplace=True)\n",
        "    \n",
        "print(\"Training set size:\", len(customers_train_set))\n",
        "print(\"Test set size:\", len(customers_test_set))"
      ],
      "execution_count": 0,
      "outputs": [
        {
          "output_type": "stream",
          "text": [
            "Training set size: 4225\n",
            "Test set size: 2818\n"
          ],
          "name": "stdout"
        }
      ]
    },
    {
      "cell_type": "markdown",
      "metadata": {
        "id": "dfcqmYJM6BE1",
        "colab_type": "text"
      },
      "source": [
        "Cleaning the data and filling missing values"
      ]
    },
    {
      "cell_type": "code",
      "metadata": {
        "id": "pNxRCs3YrXx4",
        "colab_type": "code",
        "colab": {}
      },
      "source": [
        "class ConvertToNumeric(BaseEstimator, TransformerMixin):\n",
        "    def fit(self, X, y=None):\n",
        "        return self\n",
        "    def transform(self, X, y=None):\n",
        "        s = X.values.shape[1]\n",
        "        return X.apply(pd.to_numeric, errors='coerce')\n",
        "        \n",
        "class LabelBinarizerPipelineFriendly(LabelBinarizer):\n",
        "    def fit(self, X, y=None):\n",
        "        \"\"\"this would allow us to fit the model based on the X input.\"\"\"\n",
        "        super(LabelBinarizerPipelineFriendly, self).fit(X)\n",
        "    def transform(self, X, y=None):\n",
        "        return super(LabelBinarizerPipelineFriendly, self).transform(X)\n",
        "    def fit_transform(self, X, y=None):\n",
        "        return super(LabelBinarizerPipelineFriendly, self).fit(X).transform(X)"
      ],
      "execution_count": 0,
      "outputs": []
    },
    {
      "cell_type": "code",
      "metadata": {
        "id": "zU_aBT-EOrez",
        "colab_type": "code",
        "outputId": "9bf7e6ce-ee3d-4bcf-843e-d74de1b7b738",
        "colab": {
          "base_uri": "https://localhost:8080/",
          "height": 100
        }
      },
      "source": [
        "# seperate categorical attributes\n",
        "num_attr = [\"SeniorCitizen\", \"tenure\", \"MonthlyCharges\", \"TotalCharges\"]\n",
        "\n",
        "# we will process bool and no_bool attributes seperately\n",
        "bool_cat_attr = [\"gender\", \"Partner\", \"Dependents\", \"PhoneService\",\n",
        "                 \"OnlineSecurity\", \"OnlineBackup\", \"DeviceProtection\",\n",
        "                 \"TechSupport\", \"StreamingTV\", \"StreamingMovies\",\n",
        "                 \"PaperlessBilling\"]\n",
        "other_cat_attr = [\"MultipleLines\", \"InternetService\", \"Contract\", \"PaymentMethod\"]\n",
        "\n",
        "label = [\"Churn\"]\n",
        "\n",
        "# pipeline for numerical attributes\n",
        "num_pipeline = Pipeline([\n",
        "    (\"convert_obj\", ConvertToNumeric()),\n",
        "    (\"imputer\", SimpleImputer(strategy=\"median\")),\n",
        "    (\"std_scaler\", StandardScaler())\n",
        "])\n",
        "\n",
        "# full pipeline\n",
        "final_pipeline = ColumnTransformer([\n",
        "    (\"num\", num_pipeline, num_attr),\n",
        "    (\"bool_cat\", OrdinalEncoder(), bool_cat_attr),\n",
        "    (\"other_cat\", OneHotEncoder(), other_cat_attr),\n",
        "    (\"lab_bin\", LabelBinarizerPipelineFriendly(), label)\n",
        "])\n",
        "\n",
        "customers_prepared = final_pipeline.fit_transform(customers_train_set)\n",
        "print(customers_prepared[0])   "
      ],
      "execution_count": 0,
      "outputs": [
        {
          "output_type": "stream",
          "text": [
            "[ 2.26540846 -0.83253026 -0.69553418 -0.77317593  1.          0.\n",
            "  0.          0.          0.          0.          2.          2.\n",
            "  0.          2.          1.          0.          1.          0.\n",
            "  1.          0.          0.          1.          0.          0.\n",
            "  0.          0.          1.          0.          1.        ]\n"
          ],
          "name": "stdout"
        }
      ]
    },
    {
      "cell_type": "markdown",
      "metadata": {
        "id": "Ug7OnfdPIVge",
        "colab_type": "text"
      },
      "source": [
        "<h2>Data Visualization</h2>"
      ]
    },
    {
      "cell_type": "markdown",
      "metadata": {
        "id": "ggxvBy-SoYwb",
        "colab_type": "text"
      },
      "source": [
        "Correlation can tell us which features are important in predicting the label"
      ]
    },
    {
      "cell_type": "code",
      "metadata": {
        "id": "ItXHbvCkEWOv",
        "colab_type": "code",
        "outputId": "41573ab7-f42b-4f4f-8dfb-52ec1e77185d",
        "colab": {
          "base_uri": "https://localhost:8080/",
          "height": 312
        }
      },
      "source": [
        "# rename the columns after transformation\n",
        "cols = num_attr + bool_cat_attr\n",
        "for col in other_cat_attr:\n",
        "    cats = set(customers[col])\n",
        "    for cat in cats:\n",
        "        col_name = col + '_' + cat\n",
        "        cols.append(col_name)\n",
        "cols.append(''.join(label))\n",
        "\n",
        "# plot the correlation of Churn with other attributes\n",
        "customers_vis = pd.DataFrame(customers_prepared, columns=cols)\n",
        "correlation = customers_vis.corr()\n",
        "#print(cols[(correlation.loc[['Churn'],:] <= 0.05).values])\n",
        "fig = plt.figure(figsize=(25, 1))\n",
        "fig = sns.heatmap(correlation.loc[['Churn'],:], annot=True)"
      ],
      "execution_count": 0,
      "outputs": [
        {
          "output_type": "display_data",
          "data": {
            "image/png": "[encoded data removed]",
            "text/plain": [
              "<Figure size 1800x72 with 2 Axes>"
            ]
          },
          "metadata": {
            "tags": []
          }
        }
      ]
    },
    {
      "cell_type": "markdown",
      "metadata": {
        "id": "ZT7aaQGupTg7",
        "colab_type": "text"
      },
      "source": [
        "Looking at the above data we can see that the attributes that correspond to numbers close to 0 are not very useful to us. So we can remove them which will help in speeding up our training."
      ]
    },
    {
      "cell_type": "code",
      "metadata": {
        "id": "TlL6U0J9plGa",
        "colab_type": "code",
        "outputId": "7d712182-0979-4bbb-f4d4-9e53f4b67c0b",
        "colab": {
          "base_uri": "https://localhost:8080/",
          "height": 33
        }
      },
      "source": [
        "# remove gender, PhoneService and MultipleLines_NoPhoneService attributes\n",
        "customers_prepared = np.delete(customers_prepared, [4, 7, 16], axis=1)\n",
        "customers_prepared.shape"
      ],
      "execution_count": 0,
      "outputs": [
        {
          "output_type": "execute_result",
          "data": {
            "text/plain": [
              "(4225, 22)"
            ]
          },
          "metadata": {
            "tags": []
          },
          "execution_count": 62
        }
      ]
    },
    {
      "cell_type": "markdown",
      "metadata": {
        "id": "J-LnM6FvdQ_x",
        "colab_type": "text"
      },
      "source": [
        "The key factors that predict Churn are tenure, OnlineSecurity, TechSupport, InternetService_DSL, contract and payment method. Most of these make sense: those who have a high tenure/contract are likely to not leave and the other way round . OnlineSecurity and Techsupport are things which the company needs to work on because they are likely to cause the customers to leave.\n",
        "\n",
        "**The company should lower the prices of monthly subscriptions. Also Online security and tech support are things which they need to improve.**"
      ]
    },
    {
      "cell_type": "markdown",
      "metadata": {
        "id": "oY7KpMNOIcVb",
        "colab_type": "text"
      },
      "source": [
        "<h2>Implement Machine Learning Models</h2>"
      ]
    },
    {
      "cell_type": "code",
      "metadata": {
        "id": "eikK_YbPOeiK",
        "colab_type": "code",
        "colab": {}
      },
      "source": [
        "def grid_search_cv(model, param_grid={}):\n",
        "    start = time.time()\n",
        "    grid_search = GridSearchCV(model, param_grid, cv=4, n_jobs=-1,\n",
        "                               scoring='accuracy',\n",
        "                               return_train_score=True, error_score=0.0)\n",
        "    with warnings.catch_warnings():\n",
        "        warnings.simplefilter(\"ignore\")\n",
        "        try:\n",
        "            grid_search.fit(X_train, y_train)\n",
        "        except:\n",
        "            pass\n",
        "    end = time.time()\n",
        "    print(\"Time taken:\", end-start)\n",
        "    try:\n",
        "        return grid_search.best_estimator_, grid_search.best_score_\n",
        "    except:\n",
        "        print(\"No model found!!\")\n",
        "        return None\n",
        "\n",
        "X_train = customers_prepared[:, :-1]\n",
        "y_train = customers_prepared[:, -1]\n",
        "\n",
        "best_models = []\n",
        "accuracies = []"
      ],
      "execution_count": 0,
      "outputs": []
    },
    {
      "cell_type": "markdown",
      "metadata": {
        "id": "aL9mPg4Ilx4v",
        "colab_type": "text"
      },
      "source": [
        "1. SGDClassifier"
      ]
    },
    {
      "cell_type": "code",
      "metadata": {
        "id": "vnlMcOOHlfR_",
        "colab_type": "code",
        "outputId": "c867705d-438a-4470-f320-1222c6046072",
        "colab": {
          "base_uri": "https://localhost:8080/",
          "height": 50
        }
      },
      "source": [
        "sgd_clf = SGDClassifier()\n",
        "\n",
        "param_grid = {'loss': ['squared_hinge', 'log', 'hinge'],\n",
        "              'penalty': ['l1', 'l2', 'elasticnet'],\n",
        "              'alpha': [0.01, 0.3, 0.1, 0.03, 0.003],\n",
        "              'l1_ratio': [0.5, 0.3, 0.7],\n",
        "              'max_iter': [5000],\n",
        "              'n_jobs': [-1],\n",
        "              'learning_rate': ['adaptive', 'constant'],\n",
        "              'eta0': [0.01, 0.03, 0.1, 0.3],\n",
        "              'power_t': [0.1, 0.01],\n",
        "              'early_stopping': [True]}\n",
        "\n",
        "model, acc = grid_search_cv(sgd_clf, param_grid)\n",
        "print(acc)\n",
        "best_models.append(model)\n",
        "accuracies.append(acc)"
      ],
      "execution_count": 0,
      "outputs": [
        {
          "output_type": "stream",
          "text": [
            "Time taken: 617.7701663970947\n",
            "0.8037869822485207\n"
          ],
          "name": "stdout"
        }
      ]
    },
    {
      "cell_type": "markdown",
      "metadata": {
        "id": "lsMb3ZH0l3Zt",
        "colab_type": "text"
      },
      "source": [
        "2. K Nearest Neighbors"
      ]
    },
    {
      "cell_type": "code",
      "metadata": {
        "id": "25VJ_HxTl69O",
        "colab_type": "code",
        "outputId": "5beb4f27-8671-4205-fff5-a3a0a419e424",
        "colab": {
          "base_uri": "https://localhost:8080/",
          "height": 50
        }
      },
      "source": [
        "knn = KNeighborsClassifier()\n",
        "\n",
        "param_grid = {'n_neighbors': [20],\n",
        "              'weights': ['uniform'],\n",
        "              'algorithm': ['ball_tree'],\n",
        "              'leaf_size': [20],\n",
        "              'p': [3],\n",
        "              'n_jobs': [-1]}\n",
        "\n",
        "model, acc = grid_search_cv(knn, param_grid)\n",
        "print(acc)\n",
        "best_models.append(model)\n",
        "accuracies.append(acc)"
      ],
      "execution_count": 0,
      "outputs": [
        {
          "output_type": "stream",
          "text": [
            "Time taken: 42.457690954208374\n",
            "0.7673372781065089\n"
          ],
          "name": "stdout"
        }
      ]
    },
    {
      "cell_type": "markdown",
      "metadata": {
        "id": "080StFeNo3Uf",
        "colab_type": "text"
      },
      "source": [
        "3. SVM Classifier"
      ]
    },
    {
      "cell_type": "code",
      "metadata": {
        "id": "gNre8ATTo6NU",
        "colab_type": "code",
        "outputId": "7fa2d928-075a-4a75-c848-144d1f4748e5",
        "colab": {
          "base_uri": "https://localhost:8080/",
          "height": 50
        }
      },
      "source": [
        "svc = SVC()\n",
        "\n",
        "param_grid = {'C': [0.2, 0.5, 1.0],\n",
        "              'kernel': ['poly', 'rbf'],\n",
        "              'degree': [2, 3, 4],\n",
        "              'gamma': [0.1, 0.01, 0.3],\n",
        "              'coef0': [0.0, 0.1, 0.001],\n",
        "              'max_iter': [2000]}\n",
        "\n",
        "model, acc = grid_search_cv(svc, param_grid)\n",
        "print(acc)\n",
        "best_models.append(model)\n",
        "accuracies.append(acc)"
      ],
      "execution_count": 0,
      "outputs": [
        {
          "output_type": "stream",
          "text": [
            "Time taken: 363.7709012031555\n",
            "0.7952662721893491\n"
          ],
          "name": "stdout"
        }
      ]
    },
    {
      "cell_type": "markdown",
      "metadata": {
        "id": "DcyYT69Vpoxf",
        "colab_type": "text"
      },
      "source": [
        "4. Random Forests"
      ]
    },
    {
      "cell_type": "code",
      "metadata": {
        "id": "Fh5RkdA2pshE",
        "colab_type": "code",
        "outputId": "8a95bd65-f19d-4602-9828-44519339f5fb",
        "colab": {
          "base_uri": "https://localhost:8080/",
          "height": 50
        }
      },
      "source": [
        "rf_clf = RandomForestClassifier()\n",
        "\n",
        "param_grid = {'n_estimators': [8, 12],\n",
        "              'criterion': ['gini'],\n",
        "              'max_depth': [10, 15],\n",
        "              'min_samples_split': [2],\n",
        "              'min_samples_leaf': [2],\n",
        "              'max_features': [15, 20],\n",
        "              'max_leaf_nodes': [30, 50],\n",
        "              'bootstrap': [True, False],\n",
        "              'n_jobs': [-1],\n",
        "              'warm_start': [False]}\n",
        "\n",
        "model, acc = grid_search_cv(rf_clf, param_grid)\n",
        "print(acc)\n",
        "best_models.append(model)\n",
        "accuracies.append(acc)"
      ],
      "execution_count": 0,
      "outputs": [
        {
          "output_type": "stream",
          "text": [
            "Time taken: 12.988487482070923\n",
            "0.7959763313609467\n"
          ],
          "name": "stdout"
        }
      ]
    },
    {
      "cell_type": "markdown",
      "metadata": {
        "id": "USmS1TG9IjDh",
        "colab_type": "text"
      },
      "source": [
        "<h2>Model Evaluation</h2>"
      ]
    },
    {
      "cell_type": "code",
      "metadata": {
        "id": "FNRHxEUwUnDF",
        "colab_type": "code",
        "colab": {}
      },
      "source": [
        "def plot_precision_recall_vs_threshold(precisions, recalls, thresholds):\n",
        "    plt.plot(thresholds, precisions[:-1], \"b--\", label=\"Precision\")\n",
        "    plt.plot(thresholds, recalls[:-1], \"g-\", label=\"Recall\")\n",
        "    plt.title(\"PR vs Threshold\")\n",
        "    plt.legend()\n",
        "    plt.show()\n",
        "\n",
        "def precision_vs_recall(precisions, recalls):\n",
        "    plt.plot(recalls, precisions)\n",
        "    plt.title(\"PR curve\")\n",
        "    plt.xlabel(\"Recall\")\n",
        "    plt.ylabel(\"Precision\")\n",
        "    plt.show()\n",
        "\n",
        "def yscores(model, X, y):\n",
        "    with warnings.catch_warnings():\n",
        "        warnings.simplefilter(\"ignore\")\n",
        "        try:\n",
        "            return cross_val_predict(model, X, y, cv=3, method=\"decision_function\")\n",
        "        except:\n",
        "            y_probas = cross_val_predict(model, X, y, cv=3, method=\"predict_proba\")\n",
        "            return (y_probas[:, 1] >= 0.4)*1\n",
        "    print(\"None worked!!\")\n",
        "    return None\n",
        "    \n",
        "def plot_roc_curve(fpr_s, tpr_s, labels=None):\n",
        "    for fpr, tpr, label in zip(fpr_s, tpr_s, labels):\n",
        "        plt.plot(fpr, tpr, linewidth=2, label=label)\n",
        "    plt.plot([0, 1], [0, 1], 'k--')\n",
        "    plt.title(\"ROC curve\")\n",
        "    plt.legend()\n",
        "    plt.show()"
      ],
      "execution_count": 0,
      "outputs": []
    },
    {
      "cell_type": "markdown",
      "metadata": {
        "id": "VVTMtL6fn-HB",
        "colab_type": "text"
      },
      "source": [
        "<h4>PR curve</h4>"
      ]
    },
    {
      "cell_type": "code",
      "metadata": {
        "id": "VNZkk34XeyPX",
        "colab_type": "code",
        "outputId": "75843818-2dfb-4e8a-b931-38d7c9dfb372",
        "colab": {
          "base_uri": "https://localhost:8080/",
          "height": 1462
        }
      },
      "source": [
        "fpr_s = []\n",
        "tpr_s = []\n",
        "y_scores = []\n",
        "model_precisions = []\n",
        "model_recalls = []\n",
        "model_thresholds = []\n",
        "model_names = [type(model).__name__ for model in best_models]\n",
        "\n",
        "# plotting different curves\n",
        "for model in best_models:\n",
        "    print(type(model).__name__)\n",
        "    y_score = yscores(model, X_train, y_train)\n",
        "    y_scores.append(y_score)\n",
        "    precisions, recalls, thresholds = precision_recall_curve(y_train, y_score)\n",
        "    model_precisions.append(precisions)\n",
        "    model_recalls.append(recalls)\n",
        "    model_thresholds.append(thresholds)\n",
        "    precision_vs_recall(precisions, recalls)\n",
        "    fpr, tpr, _ = roc_curve(y_train, y_score)\n",
        "    fpr_s.append(fpr)\n",
        "    tpr_s.append(tpr)\n",
        "    print('\\n\\n\\n')"
      ],
      "execution_count": 0,
      "outputs": [
        {
          "output_type": "stream",
          "text": [
            "SGDClassifier\n"
          ],
          "name": "stdout"
        },
        {
          "output_type": "display_data",
          "data": {
            "image/png": "[encoded data removed]",
            "text/plain": [
              "<Figure size 432x288 with 1 Axes>"
            ]
          },
          "metadata": {
            "tags": []
          }
        },
        {
          "output_type": "stream",
          "text": [
            "\n",
            "\n",
            "\n",
            "\n",
            "KNeighborsClassifier\n"
          ],
          "name": "stdout"
        },
        {
          "output_type": "display_data",
          "data": {
            "image/png": "[encoded data removed]",
            "text/plain": [
              "<Figure size 432x288 with 1 Axes>"
            ]
          },
          "metadata": {
            "tags": []
          }
        },
        {
          "output_type": "stream",
          "text": [
            "\n",
            "\n",
            "\n",
            "\n",
            "SVC\n"
          ],
          "name": "stdout"
        },
        {
          "output_type": "display_data",
          "data": {
            "image/png": "[encoded data removed]",
            "text/plain": [
              "<Figure size 432x288 with 1 Axes>"
            ]
          },
          "metadata": {
            "tags": []
          }
        },
        {
          "output_type": "stream",
          "text": [
            "\n",
            "\n",
            "\n",
            "\n",
            "RandomForestClassifier\n"
          ],
          "name": "stdout"
        },
        {
          "output_type": "display_data",
          "data": {
            "image/png": "[encoded data removed]",
            "text/plain": [
              "<Figure size 432x288 with 1 Axes>"
            ]
          },
          "metadata": {
            "tags": []
          }
        },
        {
          "output_type": "stream",
          "text": [
            "\n",
            "\n",
            "\n",
            "\n"
          ],
          "name": "stdout"
        }
      ]
    },
    {
      "cell_type": "markdown",
      "metadata": {
        "id": "QBOywA2NYVtM",
        "colab_type": "text"
      },
      "source": [
        "<h4>PR vs Threshold</h4>"
      ]
    },
    {
      "cell_type": "code",
      "metadata": {
        "id": "ITn5G25bYZBG",
        "colab_type": "code",
        "outputId": "0f51fb86-5640-4c83-bada-6f588288cc11",
        "colab": {
          "base_uri": "https://localhost:8080/",
          "height": 1407
        }
      },
      "source": [
        "for i, (precisions, recalls, thresholds) in enumerate(zip(model_precisions, model_recalls, model_thresholds)):\n",
        "    print(type(best_models[i]).__name__)\n",
        "    plot_precision_recall_vs_threshold(precisions, recalls, thresholds)\n",
        "    print('\\n\\n\\n')"
      ],
      "execution_count": 0,
      "outputs": [
        {
          "output_type": "stream",
          "text": [
            "SGDClassifier\n"
          ],
          "name": "stdout"
        },
        {
          "output_type": "display_data",
          "data": {
            "image/png": "[encoded data removed]",
            "text/plain": [
              "<Figure size 432x288 with 1 Axes>"
            ]
          },
          "metadata": {
            "tags": []
          }
        },
        {
          "output_type": "stream",
          "text": [
            "\n",
            "\n",
            "\n",
            "\n",
            "KNeighborsClassifier\n"
          ],
          "name": "stdout"
        },
        {
          "output_type": "display_data",
          "data": {
            "image/png": "[encoded data removed]",
            "text/plain": [
              "<Figure size 432x288 with 1 Axes>"
            ]
          },
          "metadata": {
            "tags": []
          }
        },
        {
          "output_type": "stream",
          "text": [
            "\n",
            "\n",
            "\n",
            "\n",
            "SVC\n"
          ],
          "name": "stdout"
        },
        {
          "output_type": "display_data",
          "data": {
            "image/png": "[encoded data removed]",
            "text/plain": [
              "<Figure size 432x288 with 1 Axes>"
            ]
          },
          "metadata": {
            "tags": []
          }
        },
        {
          "output_type": "stream",
          "text": [
            "\n",
            "\n",
            "\n",
            "\n",
            "RandomForestClassifier\n"
          ],
          "name": "stdout"
        },
        {
          "output_type": "display_data",
          "data": {
            "image/png": "[encoded data removed]",
            "text/plain": [
              "<Figure size 432x288 with 1 Axes>"
            ]
          },
          "metadata": {
            "tags": []
          }
        },
        {
          "output_type": "stream",
          "text": [
            "\n",
            "\n",
            "\n",
            "\n"
          ],
          "name": "stdout"
        }
      ]
    },
    {
      "cell_type": "markdown",
      "metadata": {
        "id": "BIFBMXfNoQCQ",
        "colab_type": "text"
      },
      "source": [
        "<h4>ROC curve</h4>"
      ]
    },
    {
      "cell_type": "code",
      "metadata": {
        "id": "7BYL_HKki314",
        "colab_type": "code",
        "outputId": "c17586f9-34b3-4982-9b85-5163d5cfd984",
        "colab": {
          "base_uri": "https://localhost:8080/",
          "height": 281
        }
      },
      "source": [
        "plot_roc_curve(fpr_s, tpr_s, model_names)"
      ],
      "execution_count": 0,
      "outputs": [
        {
          "output_type": "display_data",
          "data": {
            "image/png": "[encoded data removed]",
            "text/plain": [
              "<Figure size 432x288 with 1 Axes>"
            ]
          },
          "metadata": {
            "tags": []
          }
        }
      ]
    },
    {
      "cell_type": "markdown",
      "metadata": {
        "id": "p7JqETl9XXno",
        "colab_type": "text"
      },
      "source": [
        "The ROC curve of SGDClassifier and SVC is having larger area under the curve so they will perform better. The last check will be with the test set."
      ]
    },
    {
      "cell_type": "markdown",
      "metadata": {
        "id": "ArqfieOEo3GE",
        "colab_type": "text"
      },
      "source": [
        "<h4>Transforming the test set</h4>"
      ]
    },
    {
      "cell_type": "code",
      "metadata": {
        "id": "rtDV6tV7kNGV",
        "colab_type": "code",
        "colab": {}
      },
      "source": [
        "# transform the test set\n",
        "validation_customers = final_pipeline.transform(customers_test_set)\n",
        "validation_customers = np.delete(validation_customers, [4, 7, 16], axis=1)\n",
        "\n",
        "# seperate the labels from the data\n",
        "X_test = validation_customers[:, :-1]\n",
        "y_test = validation_customers[:, -1]"
      ],
      "execution_count": 0,
      "outputs": []
    },
    {
      "cell_type": "markdown",
      "metadata": {
        "id": "zf91oE_ojQA7",
        "colab_type": "text"
      },
      "source": [
        "<h3>Final score: <small>Test set predictions</small></h3>"
      ]
    },
    {
      "cell_type": "code",
      "metadata": {
        "id": "b6nwWrISjVjW",
        "colab_type": "code",
        "colab": {}
      },
      "source": [
        "test_scores = []\n",
        "\n",
        "for model in best_models:\n",
        "    y_test_pred = model.predict(X_test)\n",
        "    test_scores.append(f1_score(y_test, y_test_pred))\n",
        "\n",
        "fig, ax = plt.subplots()\n",
        "y_pos = np.arange(len(best_models))\n",
        "ax.barh(y_pos, test_scores, align='center')\n",
        "ax.set_yticks(y_pos)\n",
        "ax.set_yticklabels(model_names)\n",
        "ax.invert_yaxis()  # labels read top-to-bottom\n",
        "ax.set_title('f1 score')\n",
        "\n",
        "plt.show()"
      ],
      "execution_count": 0,
      "outputs": []
    },
    {
      "cell_type": "markdown",
      "metadata": {
        "id": "Ns_BIR_CtDhw",
        "colab_type": "text"
      },
      "source": [
        "<h2>Final Conclusions</h2>"
      ]
    },
    {
      "cell_type": "markdown",
      "metadata": {
        "id": "-ilMteu-tQ-j",
        "colab_type": "text"
      },
      "source": [
        "SGD Classifier performs the best among the selected classifiers, having the highest f1 score. "
      ]
    },
    {
      "cell_type": "code",
      "metadata": {
        "id": "PJvWfYHZulDW",
        "colab_type": "code",
        "colab": {}
      },
      "source": [
        "print(\"Accuracy of SGD Classifier:\", accuracies[0])"
      ],
      "execution_count": 0,
      "outputs": []
    }
  ]
}